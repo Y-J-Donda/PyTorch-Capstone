{
  "nbformat": 4,
  "nbformat_minor": 0,
  "metadata": {
    "colab": {
      "provenance": [],
      "gpuType": "T4"
    },
    "kernelspec": {
      "name": "python3",
      "display_name": "Python 3"
    },
    "language_info": {
      "name": "python"
    },
    "accelerator": "GPU"
  },
  "cells": [
    {
      "cell_type": "markdown",
      "source": [
        "1"
      ],
      "metadata": {
        "id": "2y8U2TqsdOoB"
      }
    },
    {
      "cell_type": "code",
      "source": [
        "# Cell 1: Mount Google Drive\n",
        "from google.colab import drive\n",
        "drive.mount('/content/drive')\n",
        "\n",
        "# Set the dataset path\n",
        "dataset_path = '/content/drive/MyDrive/country211'\n"
      ],
      "metadata": {
        "colab": {
          "base_uri": "https://localhost:8080/"
        },
        "id": "z8NdPO6miATW",
        "outputId": "92047a09-016e-49e1-8743-20641ee78099"
      },
      "execution_count": 1,
      "outputs": [
        {
          "output_type": "stream",
          "name": "stdout",
          "text": [
            "Mounted at /content/drive\n"
          ]
        }
      ]
    },
    {
      "cell_type": "code",
      "execution_count": null,
      "metadata": {
        "id": "LCnQmo42fGzw"
      },
      "outputs": [],
      "source": [
        "# Cell 1: Mount Google Drive\n",
        "\n",
        "# Set the dataset path\n",
        "dataset_path = '/content/drive/MyDrive/country211'\n"
      ]
    },
    {
      "cell_type": "markdown",
      "source": [
        "2"
      ],
      "metadata": {
        "id": "3_uzura7dQ1h"
      }
    },
    {
      "cell_type": "code",
      "source": [],
      "metadata": {
        "id": "YVqi0tcIdSyC"
      },
      "execution_count": null,
      "outputs": []
    },
    {
      "cell_type": "markdown",
      "source": [
        "3"
      ],
      "metadata": {
        "id": "c2G5rv0ddTi7"
      }
    },
    {
      "cell_type": "code",
      "source": [
        "# Cell 3: Verify Directory Structure\n",
        "import os\n",
        "\n",
        "# List the contents of the dataset directory\n",
        "print(\"Contents of dataset directory:\", os.listdir(dataset_path))\n",
        "\n",
        "# List the contents of the train, val, and test directories\n",
        "print(\"Contents of train directory:\", os.listdir(f'{dataset_path}/train'))\n",
        "print(\"Contents of val directory:\", os.listdir(f'{dataset_path}/valid'))\n",
        "print(\"Contents of test directory:\", os.listdir(f'{dataset_path}/test'))\n",
        "\n",
        "# Check for a few subdirectories and their contents\n",
        "print(\"Contents of a sample train subdirectory:\", os.listdir(f'{dataset_path}/train/AD'))\n",
        "print(\"Contents of a sample val subdirectory:\", os.listdir(f'{dataset_path}/valid/AD'))\n",
        "print(\"Contents of a sample test subdirectory:\", os.listdir(f'{dataset_path}/test/AD'))\n"
      ],
      "metadata": {
        "colab": {
          "base_uri": "https://localhost:8080/"
        },
        "id": "FOPGrLSgiSSp",
        "outputId": "50a9b97e-0414-43af-80ac-de5d0a840808"
      },
      "execution_count": 4,
      "outputs": [
        {
          "output_type": "stream",
          "name": "stdout",
          "text": [
            "Contents of dataset directory: ['train', 'test', 'valid']\n",
            "Contents of train directory: ['VI', 'VN', 'YE', 'WS', 'XK', 'VU', 'ZM', 'ZA', 'ZW', 'UA', 'VG', 'UG', 'TZ', 'UY', 'UZ', 'VA', 'US', 'VE', 'TW', 'TG', 'TM', 'TJ', 'TL', 'TH', 'TN', 'TT', 'SZ', 'TR', 'TO', 'SX', 'SK', 'SJ', 'SY', 'SV', 'SO', 'SS', 'SL', 'SM', 'SN', 'RW', 'SG', 'RU', 'SA', 'SD', 'SC', 'SH', 'SI', 'SE', 'SB', 'PR', 'PS', 'PW', 'PL', 'RS', 'RO', 'PY', 'PT', 'QA', 'RE', 'PA', 'NP', 'PK', 'OM', 'PE', 'PF', 'PH', 'NZ', 'PG', 'NO', 'NA', 'MY', 'MX', 'NC', 'NI', 'NG', 'MV', 'NL', 'MW', 'MZ', 'ML', 'MK', 'MO', 'MQ', 'MT', 'MR', 'MM', 'MN', 'MG', 'MU', 'LT', 'LR', 'LV', 'MD', 'MC', 'LY', 'MA', 'LU', 'MF', 'ME', 'KZ', 'LC', 'LB', 'KR', 'KY', 'KW', 'LK', 'LI', 'KP', 'LA', 'JM', 'KG', 'KH', 'KN', 'JO', 'KE', 'JP', 'IS', 'JE', 'IT', 'IR', 'IN', 'IQ', 'IE', 'IL', 'HU', 'HR', 'IM', 'ID', 'HT', 'GL', 'GS', 'HN', 'HK', 'GP', 'GT', 'GY', 'GR', 'GU', 'GM', 'GF', 'GB', 'GI', 'GH', 'GA', 'GG', 'GD', 'FO', 'GE', 'FR', 'EC', 'EG', 'EE', 'FI', 'FJ', 'ES', 'DO', 'ET', 'FK', 'DZ', 'CW', 'CV', 'DM', 'DK', 'CO', 'DE', 'CY', 'CU', 'CR', 'CZ', 'BZ', 'CL', 'CK', 'CM', 'CD', 'CF', 'CI', 'CN', 'CH', 'CA', 'BQ', 'BW', 'BJ', 'BR', 'BS', 'BO', 'BT', 'BM', 'BY', 'BN', 'BB', 'BG', 'BE', 'BD', 'AW', 'BH', 'AZ', 'BA', 'BF', 'AX', 'AU', 'AF', 'AI', 'AL', 'AG', 'AT', 'AM', 'AO', 'AQ', 'AR', 'AD', 'AE']\n",
            "Contents of val directory: ['VN', 'YE', 'ZW', 'ZA', 'WS', 'VG', 'VI', 'ZM', 'VU', 'XK', 'TT', 'UY', 'VE', 'UZ', 'UA', 'TW', 'VA', 'UG', 'TZ', 'US', 'TG', 'TO', 'TM', 'SY', 'SZ', 'TH', 'TR', 'TJ', 'TN', 'TL', 'SX', 'SI', 'SM', 'SJ', 'SK', 'SL', 'SN', 'SO', 'SS', 'SV', 'SG', 'RS', 'SE', 'SD', 'SA', 'RW', 'SH', 'SC', 'RU', 'SB', 'PT', 'PK', 'RO', 'PY', 'PS', 'QA', 'PL', 'RE', 'PW', 'PR', 'NO', 'NZ', 'PF', 'PH', 'PG', 'NP', 'NL', 'OM', 'PA', 'PE', 'NC', 'MV', 'NI', 'MY', 'MX', 'NG', 'MW', 'MZ', 'NA', 'MU', 'MR', 'MQ', 'ML', 'MT', 'MO', 'MK', 'MG', 'MF', 'MM', 'MN', 'LR', 'MD', 'MA', 'LT', 'ME', 'LY', 'MC', 'LV', 'LU', 'LK', 'KY', 'LC', 'KW', 'LA', 'KN', 'LB', 'LI', 'KR', 'KZ', 'KP', 'JO', 'KE', 'JE', 'JP', 'IR', 'KG', 'KH', 'IS', 'IT', 'JM', 'HT', 'ID', 'HN', 'HR', 'IE', 'HU', 'IN', 'IQ', 'IM', 'IL', 'GT', 'GI', 'GL', 'GS', 'HK', 'GR', 'GU', 'GM', 'GP', 'GY', 'FR', 'GA', 'FK', 'GB', 'GH', 'GE', 'FO', 'GD', 'GG', 'GF', 'DZ', 'FI', 'EC', 'DM', 'DO', 'EE', 'ET', 'EG', 'FJ', 'ES', 'DE', 'CY', 'CR', 'CW', 'CZ', 'CV', 'CU', 'CN', 'CO', 'DK', 'CK', 'CL', 'CD', 'CH', 'BZ', 'BY', 'CM', 'CI', 'CF', 'CA', 'BT', 'BH', 'BR', 'BW', 'BJ', 'BQ', 'BM', 'BN', 'BO', 'BS', 'AU', 'AZ', 'AW', 'BB', 'BG', 'BA', 'AX', 'BE', 'BF', 'BD', 'AE', 'AL', 'AT', 'AM', 'AI', 'AO', 'AF', 'AQ', 'AG', 'AR', 'AD']\n",
            "Contents of test directory: ['WS', 'VN', 'YE', 'VU', 'XK', 'ZW', 'ZA', 'ZM', 'UY', 'UA', 'VG', 'VI', 'TZ', 'VE', 'VA', 'US', 'UZ', 'UG', 'TL', 'TO', 'TM', 'TN', 'TT', 'TG', 'TW', 'TJ', 'TH', 'TR', 'SO', 'SM', 'SL', 'SZ', 'SS', 'SY', 'SX', 'SN', 'SK', 'SV', 'SB', 'SD', 'SH', 'SG', 'SC', 'SJ', 'SA', 'RW', 'SI', 'SE', 'PS', 'RE', 'PT', 'PR', 'PY', 'PW', 'RS', 'QA', 'RU', 'RO', 'PA', 'NP', 'PF', 'NZ', 'PG', 'OM', 'PL', 'PE', 'PH', 'PK', 'NG', 'NL', 'NI', 'MX', 'NA', 'MZ', 'MY', 'NC', 'NO', 'MW', 'ML', 'MR', 'MQ', 'MO', 'MK', 'MN', 'MT', 'MV', 'MM', 'MU', 'MD', 'MA', 'LU', 'LV', 'MC', 'LT', 'ME', 'MG', 'LY', 'MF', 'KR', 'KZ', 'LI', 'KY', 'LC', 'KW', 'LB', 'LA', 'LK', 'LR', 'JM', 'JP', 'KE', 'KH', 'IT', 'KG', 'KP', 'JE', 'KN', 'JO', 'IQ', 'ID', 'IL', 'IR', 'HT', 'HU', 'IM', 'IN', 'IE', 'IS', 'GP', 'GM', 'GY', 'GU', 'HK', 'GS', 'GT', 'GR', 'HR', 'HN', 'GI', 'GA', 'GB', 'GH', 'GD', 'GL', 'GG', 'FR', 'GE', 'GF', 'ET', 'EC', 'EG', 'FO', 'EE', 'FK', 'ES', 'DZ', 'FI', 'FJ', 'CY', 'CZ', 'DO', 'CR', 'CU', 'DM', 'DE', 'CV', 'CW', 'DK', 'CL', 'CM', 'CD', 'CA', 'CF', 'CI', 'CO', 'CN', 'CH', 'CK', 'BS', 'BY', 'BW', 'BT', 'BQ', 'BO', 'BM', 'BN', 'BR', 'BZ', 'BD', 'BG', 'BH', 'BF', 'AZ', 'BE', 'BA', 'AX', 'BJ', 'BB', 'AQ', 'AM', 'AU', 'AL', 'AW', 'AT', 'AI', 'AG', 'AO', 'AR', 'AD', 'AE', 'AF']\n",
            "Contents of a sample train subdirectory: ['6388234_42.692802_1.550522.jpg', '1339606_42.508172_1.529846.jpg', '8781186_42.549792_1.522979.jpg', '7814353_42.620191_1.571216.jpg', '7649543_42.464847_1.490986.jpg', '8576090_42.566404_1.597738.jpg', '8376577_42.507464_1.522619.jpg', '3376710_42.580691_1.626989.jpg', '551028_42.506796_1.522336.jpg', '291023_42.589444_1.799933.jpg', '5416665_42.549792_1.522979.jpg', '8721467_42.537777_1.726613.jpg', '9311972_42.50697_1.527314.jpg', '2851745_42.599345_1.812229.jpg', '1277139_42.64305_1.512336.jpg', '9217644_42.540215_1.71935.jpg', '6247402_42.580262_1.649022.jpg', '8805638_42.507283_1.519911.jpg', '9017379_42.55758_1.433272.jpg', '6208395_42.506891_1.522325.jpg', '3426288_42.487666_1.6825.jpg', '5729780_42.510134_1.439809.jpg', '6171073_42.563448_1.599197.jpg', '3880046_42.620191_1.571216.jpg', '8579796_42.506745_1.520351.jpg', '327377_42.50697_1.527314.jpg', '8119582_42.575711_1.514911.jpg', '5321122_42.566672_1.523537.jpg', '7971776_42.505768_1.536884.jpg', '3791439_42.581333_1.637833.jpg', '1209731_42.51083_1.693096.jpg', '6335875_42.554826_1.590818.jpg', '3351373_42.508868_1.529202.jpg', '6039969_42.549792_1.522979.jpg', '7028126_42.625686_1.552248.jpg', '8699046_42.521601_1.57024.jpg', '202909_42.576533_1.516628.jpg', '9656789_42.705063_1.531375.jpg', '9893124_42.498174_1.499805.jpg', '6484289_42.504629_1.552248.jpg', '3938365_42.508765_1.529331.jpg', '9466905_42.510853_1.535317.jpg', '8656526_42.701855_1.55308.jpg', '6462674_42.50697_1.527314.jpg', '9615174_42.51083_1.693096.jpg', '4457222_42.639233_1.486394.jpg', '3146770_42.634463_1.433372.jpg', '6766726_42.512411_1.536455.jpg', '9851244_42.549792_1.522979.jpg', '9014609_42.49115_1.493282.jpg', '947741_42.620696_1.472854.jpg', '6529303_42.54599_1.474946.jpg', '1563324_42.571666_1.651725.jpg', '3551472_42.466944_1.420277.jpg', '6528757_42.510853_1.535317.jpg', '8991378_42.550392_1.738045.jpg', '3331208_42.557341_1.588608.jpg', '8263789_42.549792_1.522979.jpg', '8078607_42.539548_1.588726.jpg', '4231545_42.51083_1.693096.jpg', '4397399_42.509382_1.541712.jpg', '1673422_42.54467_1.732234.jpg', '85204_42.628655_1.435866.jpg', '2522820_42.507982_1.52343.jpg', '2651485_42.555249_1.590797.jpg', '5072354_42.603009_1.687431.jpg', '9850403_42.508172_1.529846.jpg', '4406666_42.508133_1.527743.jpg', '637665_42.594038_1.804676.jpg', '6723530_42.54277_1.73361.jpg', '3837785_42.512222_1.431312.jpg', '7178920_42.507967_1.520404.jpg', '2935569_42.637242_1.54684.jpg', '9506215_42.549792_1.522979.jpg', '4702846_42.576533_1.516628.jpg', '5526920_42.464261_1.490278.jpg', '7649311_42.545492_1.517486.jpg', '2445060_42.564582_1.782204.jpg', '7553721_42.667164_1.392345.jpg', '6203230_42.535121_1.697216.jpg', '9612972_42.589713_1.80014.jpg', '6770645_42.50644_1.527657.jpg', '4349879_42.612864_1.576881.jpg', '5218039_42.616528_1.483497.jpg', '3199225_42.563891_1.665115.jpg', '8946752_42.549792_1.522979.jpg', '6088416_42.540939_1.733608.jpg', '298351_42.508172_1.529846.jpg', '559152_42.527657_1.501178.jpg', '5814713_42.580691_1.626989.jpg', '6773458_42.504502_1.721763.jpg', '8854162_42.549792_1.522979.jpg', '8930530_42.567241_1.599197.jpg', '970858_42.669183_1.503238.jpg', '802317_42.762263_1.364021.jpg', '2827870_42.508172_1.529846.jpg', '4909965_42.539295_1.720218.jpg', '6086683_42.566988_1.491394.jpg', '8933038_42.506891_1.522325.jpg', '7965782_42.542369_1.600209.jpg', '2806190_42.595744_1.531305.jpg', '4227862_42.508133_1.527743.jpg', '286856_42.556125_1.532302.jpg', '7459393_42.566562_1.489806.jpg', '8032546_42.507286_1.522057.jpg', '486098_42.444717_1.39463.jpg', '2300290_42.635095_1.436076.jpg', '3611632_42.55758_1.433272.jpg', '3170003_42.539295_1.720218.jpg', '6805446_42.533347_1.484747.jpg', '9570765_42.54467_1.732234.jpg', '9539544_42.46609_1.493647.jpg', '8773700_42.576596_1.666145.jpg', '4696360_42.511486_1.560434.jpg', '9974970_42.54467_1.732234.jpg', '7280745_42.566562_1.489806.jpg', '4869113_42.50637_1.52221.jpg', '9353533_42.539295_1.720218.jpg', '1313572_42.528227_1.682882.jpg', '1439033_42.509563_1.525725.jpg', '6333384_42.566562_1.489806.jpg', '3852715_42.507085_1.518967.jpg', '1380640_42.506891_1.522325.jpg', '7777596_42.569738_1.606321.jpg', '1464802_42.560382_1.809568.jpg', '4844614_42.549792_1.522979.jpg', '4813454_42.542504_1.505341.jpg', '4870028_42.509185_1.541132.jpg', '9294391_42.556125_1.532302.jpg', '7172910_42.506891_1.522325.jpg', '4738523_42.579252_1.663686.jpg', '2102197_42.534314_1.578598.jpg', '9442868_42.511385_1.537646.jpg', '2416993_42.566562_1.489806.jpg', '3301375_42.539706_1.634731.jpg', '5511626_42.453101_1.462254.jpg', '7495380_42.576849_1.665887.jpg', '5011728_42.635174_1.476931.jpg', '3961675_42.507286_1.522057.jpg', '2687228_42.580691_1.626989.jpg', '699566_42.538789_1.727771.jpg', '3382983_42.636497_1.442444.jpg', '8436960_42.510853_1.535317.jpg', '377960_42.533413_1.67078.jpg', '2278017_42.507108_1.519728.jpg', '9512763_42.76261_1.362004.jpg', '5546660_42.464261_1.490278.jpg', '1627214_42.510229_1.539802.jpg', '280412_42.506958_1.52078.jpg', '6695396_42.508172_1.529846.jpg']\n",
            "Contents of a sample val subdirectory: ['4796207_42.592774_1.502552.jpg', '7069863_42.566404_1.597738.jpg', '5191885_42.50644_1.527657.jpg', '5424208_42.500184_1.509236.jpg', '4662508_42.508133_1.527743.jpg', '3976857_42.509563_1.525725.jpg', '3247407_42.603009_1.687431.jpg', '1086856_42.585646_1.642112.jpg', '2020349_42.504502_1.721763.jpg', '2926733_42.53803_1.442298.jpg', '5942816_42.580691_1.626989.jpg', '9742932_42.549792_1.522979.jpg', '5826743_42.50992_1.533687.jpg', '4027825_42.645197_1.379299.jpg', '5023960_42.46233_1.503431.jpg', '8139031_42.507033_1.551132.jpg', '108316_42.640146_1.485729.jpg', '4320925_42.504629_1.552248.jpg', '2504760_42.560919_1.80974.jpg', '2701916_42.504502_1.721763.jpg', '3327494_42.438502_1.553578.jpg', '6597087_42.626759_1.545295.jpg', '1051689_42.464261_1.490278.jpg', '3198761_42.506401_1.52255.jpg', '3863364_42.571666_1.651725.jpg', '7886943_42.504502_1.721763.jpg', '8361517_42.586455_1.477661.jpg', '2449101_42.562949_1.454172.jpg', '6861419_42.508172_1.529846.jpg', '1475194_42.464261_1.490278.jpg', '3165682_42.477636_1.488647.jpg', '9362431_42.541655_1.725727.jpg', '797339_42.507886_1.523647.jpg', '2824277_42.633327_1.466846.jpg', '1057770_42.506796_1.522336.jpg', '3918503_42.539295_1.720218.jpg', '2149079_42.686473_1.38977.jpg', '629692_42.637242_1.54684.jpg', '6527384_42.627517_1.778755.jpg', '8879551_42.556399_1.534051.jpg', '4199078_42.509563_1.525725.jpg', '5430277_42.534314_1.578598.jpg', '9569006_42.653025_1.383762.jpg', '7904532_42.494377_1.499633.jpg', '6007307_42.636783_1.448686.jpg', '9785041_42.679505_1.543238.jpg', '5130522_42.595554_1.677303.jpg', '9404223_42.511486_1.560434.jpg', '7216261_42.702469_1.552222.jpg', '5809974_42.507322_1.519975.jpg']\n",
            "Contents of a sample test subdirectory: ['8926690_42.483808_1.457576.jpg', '4374976_42.507464_1.522619.jpg', '9297637_42.438292_1.475569.jpg', '7366964_42.635072_1.446311.jpg', '8682972_42.506891_1.522325.jpg', '5039782_42.535121_1.697216.jpg', '7129336_42.548274_1.416978.jpg', '1568664_42.525507_1.68786.jpg', '4425278_42.560382_1.809568.jpg', '1403491_42.508752_1.536536.jpg', '5242396_42.504502_1.721763.jpg', '2838992_42.54599_1.474946.jpg', '3960337_42.559908_1.811563.jpg', '2698532_42.594433_1.451411.jpg', '5596457_42.497921_1.501693.jpg', '3558678_42.543769_1.733726.jpg', '2510415_42.55485_1.591815.jpg', '9006051_42.565874_1.59969.jpg', '6511562_42.554822_1.591027.jpg', '5296445_42.573_1.484.jpg', '3967150_42.507413_1.530189.jpg', '1654014_42.701855_1.55308.jpg', '9401242_42.506891_1.522325.jpg', '4542341_42.495666_1.684666.jpg', '4118700_42.667062_1.397811.jpg', '9207557_42.63148_1.483025.jpg', '3853269_42.505009_1.527099.jpg', '6795279_42.464847_1.490986.jpg', '7804460_42.508133_1.527743.jpg', '7367813_42.580691_1.626989.jpg', '1375030_42.539943_1.720669.jpg', '3134433_42.534662_1.576897.jpg', '7948120_42.540951_1.725388.jpg', '808845_42.535121_1.697216.jpg', '7729446_42.463589_1.493049.jpg', '6013118_42.535121_1.697216.jpg', '8785293_42.50637_1.52221.jpg', '5283813_42.571729_1.484913.jpg', '2666141_42.527825_1.721366.jpg', '5937379_42.603009_1.687431.jpg', '5265819_42.504866_1.523888.jpg', '2217057_42.507575_1.52226.jpg', '3049329_42.657213_1.728547.jpg', '8315373_42.506891_1.522325.jpg', '8584018_42.596912_1.42981.jpg', '8235937_42.535121_1.697216.jpg', '9501975_42.702469_1.552222.jpg', '8141190_42.53803_1.442298.jpg', '9599066_42.585646_1.642112.jpg', '3023792_42.603009_1.687431.jpg', '7929598_42.515195_1.693868.jpg', '2060561_42.467318_1.492875.jpg', '8354648_42.580311_1.647583.jpg', '4570887_42.602757_1.686573.jpg', '2084176_42.506891_1.522325.jpg', '7953975_42.506891_1.522325.jpg', '2885371_42.680668_1.401958.jpg', '9067791_42.549792_1.522979.jpg', '7421227_42.556747_1.504955.jpg', '1572953_42.511486_1.560434.jpg', '8968290_42.562184_1.496458.jpg', '4889800_42.489093_1.450796.jpg', '1056316_42.461143_1.501972.jpg', '9402263_42.608948_1.765365.jpg', '5774029_42.50716_1.522035.jpg', '6179026_42.465259_1.417922.jpg', '771930_42.54277_1.73361.jpg', '8878054_42.50716_1.522035.jpg', '3947899_42.549792_1.522979.jpg', '2081892_42.542369_1.600209.jpg', '865792_42.570781_1.596536.jpg', '8669488_42.477838_1.488188.jpg', '5555536_42.538789_1.727771.jpg', '8883085_42.596912_1.42981.jpg', '4955872_42.507967_1.520404.jpg', '2487913_42.553522_1.678333.jpg', '4138103_42.542369_1.600209.jpg', '4912442_42.549792_1.522979.jpg', '2251699_42.47102_1.494333.jpg', '2145036_42.754071_1.381874.jpg', '2986502_42.561175_1.497172.jpg', '3467740_42.507464_1.522619.jpg', '8829305_42.51185_1.438071.jpg', '9527553_42.506907_1.52225.jpg', '9346227_42.576849_1.654644.jpg', '8913054_42.556125_1.532302.jpg', '1320521_42.455507_1.462726.jpg', '6300154_42.576596_1.666145.jpg', '9919755_42.461143_1.501972.jpg', '6570813_42.504162_1.517498.jpg', '5493046_42.556399_1.534051.jpg', '5149838_42.504502_1.721763.jpg', '261650_42.580691_1.626989.jpg', '35888_42.534109_1.587432.jpg', '8607188_42.50697_1.527314.jpg', '1306731_42.506203_1.527056.jpg', '7445578_42.625244_1.383419.jpg', '7619128_42.464016_1.49252.jpg', '6736946_42.597576_1.670866.jpg', '1140872_42.520573_1.684684.jpg']\n"
          ]
        }
      ]
    },
    {
      "cell_type": "markdown",
      "source": [
        "4"
      ],
      "metadata": {
        "id": "1Cuq0obyiY4N"
      }
    },
    {
      "cell_type": "code",
      "source": [
        "# Cell 4: Data Loading and Preprocessing\n",
        "# Import necessary libraries\n",
        "import torch\n",
        "from torchvision import datasets, transforms\n",
        "from torch.utils.data import DataLoader\n",
        "\n",
        "# Define transformations for the training, validation, and test sets\n",
        "train_transforms = transforms.Compose([\n",
        "    transforms.RandomResizedCrop(224),\n",
        "    transforms.RandomHorizontalFlip(),\n",
        "    transforms.ToTensor(),\n",
        "    transforms.Normalize(mean=[0.485, 0.456, 0.406], std=[0.229, 0.224, 0.225]),\n",
        "])\n",
        "\n",
        "val_transforms = transforms.Compose([\n",
        "    transforms.Resize(256),\n",
        "    transforms.CenterCrop(224),\n",
        "    transforms.ToTensor(),\n",
        "    transforms.Normalize(mean=[0.485, 0.456, 0.406], std=[0.229, 0.224, 0.225]),\n",
        "])\n",
        "\n",
        "# Load the datasets with ImageFolder\n",
        "train_dataset = datasets.ImageFolder(root=f'{dataset_path}/train', transform=train_transforms)\n",
        "val_dataset = datasets.ImageFolder(root=f'{dataset_path}/valid', transform=val_transforms)\n",
        "test_dataset = datasets.ImageFolder(root=f'{dataset_path}/test', transform=val_transforms)\n",
        "\n",
        "# Define the DataLoaders\n",
        "train_loader = DataLoader(train_dataset, batch_size=32, shuffle=True, num_workers=4)\n",
        "val_loader = DataLoader(val_dataset, batch_size=32, shuffle=False, num_workers=4)\n",
        "test_loader = DataLoader(test_dataset, batch_size=32, shuffle=False, num_workers=4)\n",
        "\n",
        "# Print dataset sizes\n",
        "print(f'Training dataset size: {len(train_dataset)}')\n",
        "print(f'Validation dataset size: {len(val_dataset)}')\n",
        "print(f'Test dataset size: {len(test_dataset)}')\n"
      ],
      "metadata": {
        "colab": {
          "base_uri": "https://localhost:8080/"
        },
        "id": "x6SIikzObU_p",
        "outputId": "29d1bd51-e271-4074-e4b2-e467c25cdb16"
      },
      "execution_count": 6,
      "outputs": [
        {
          "output_type": "stream",
          "name": "stdout",
          "text": [
            "Training dataset size: 31671\n",
            "Validation dataset size: 10550\n",
            "Test dataset size: 21120\n"
          ]
        },
        {
          "output_type": "stream",
          "name": "stderr",
          "text": [
            "/usr/local/lib/python3.10/dist-packages/torch/utils/data/dataloader.py:558: UserWarning: This DataLoader will create 4 worker processes in total. Our suggested max number of worker in current system is 2, which is smaller than what this DataLoader is going to create. Please be aware that excessive worker creation might get DataLoader running slow or even freeze, lower the worker number to avoid potential slowness/freeze if necessary.\n",
            "  warnings.warn(_create_warning_msg(\n"
          ]
        }
      ]
    },
    {
      "cell_type": "markdown",
      "source": [
        "5"
      ],
      "metadata": {
        "id": "JVTwFw1lduc4"
      }
    },
    {
      "cell_type": "code",
      "source": [
        "# Cell 5: Model Definition\n",
        "# Import necessary libraries\n",
        "import torch.nn as nn\n",
        "import torch.nn.functional as F\n",
        "\n",
        "# Define the CNN model\n",
        "class CNN(nn.Module):\n",
        "    def __init__(self, num_classes):\n",
        "        super(CNN, self).__init__()\n",
        "        self.conv1 = nn.Conv2d(3, 32, kernel_size=3, stride=1, padding=1)\n",
        "        self.conv2 = nn.Conv2d(32, 64, kernel_size=3, stride=1, padding=1)\n",
        "        self.pool = nn.MaxPool2d(kernel_size=2, stride=2, padding=0)\n",
        "        self.fc1 = nn.Linear(64 * 56 * 56, 512)\n",
        "        self.fc2 = nn.Linear(512, num_classes)\n",
        "\n",
        "    def forward(self, x):\n",
        "        x = self.pool(F.relu(self.conv1(x)))\n",
        "        x = self.pool(F.relu(self.conv2(x)))\n",
        "        x = x.view(-1, 64 * 56 * 56)\n",
        "        x = F.relu(self.fc1(x))\n",
        "        x = self.fc2(x)\n",
        "        return x\n",
        "\n",
        "# Example usage (replace 'num_classes' with the actual number of classes in your dataset)\n",
        "num_classes = len(train_loader.dataset.classes)\n",
        "model = CNN(num_classes)\n",
        "print(model)\n"
      ],
      "metadata": {
        "id": "Co0lrEQlbVg9",
        "colab": {
          "base_uri": "https://localhost:8080/"
        },
        "outputId": "a50107fd-f67b-4108-ec1e-68cccc13b3dc"
      },
      "execution_count": 7,
      "outputs": [
        {
          "output_type": "stream",
          "name": "stdout",
          "text": [
            "CNN(\n",
            "  (conv1): Conv2d(3, 32, kernel_size=(3, 3), stride=(1, 1), padding=(1, 1))\n",
            "  (conv2): Conv2d(32, 64, kernel_size=(3, 3), stride=(1, 1), padding=(1, 1))\n",
            "  (pool): MaxPool2d(kernel_size=2, stride=2, padding=0, dilation=1, ceil_mode=False)\n",
            "  (fc1): Linear(in_features=200704, out_features=512, bias=True)\n",
            "  (fc2): Linear(in_features=512, out_features=211, bias=True)\n",
            ")\n"
          ]
        }
      ]
    },
    {
      "cell_type": "markdown",
      "source": [
        "6"
      ],
      "metadata": {
        "id": "vDV5lVIri6e_"
      }
    },
    {
      "cell_type": "code",
      "source": [
        "# Cell 6: Model Training\n",
        "# Import necessary libraries\n",
        "import torch\n",
        "import torch.optim as optim\n",
        "from torch.optim import lr_scheduler\n",
        "from torch.utils.data import DataLoader\n",
        "\n",
        "device = torch.device(\"cuda\" if torch.cuda.is_available() else \"cpu\")\n",
        "\n",
        "# Initialize the model, loss function, and optimizer\n",
        "num_classes = len(train_loader.dataset.classes)\n",
        "model = CNN(num_classes).to(device)\n",
        "criterion = nn.CrossEntropyLoss()\n",
        "optimizer = optim.SGD(model.parameters(), lr=0.001, momentum=0.9)\n",
        "scheduler = lr_scheduler.StepLR(optimizer, step_size=7, gamma=0.1)\n",
        "\n",
        "# Training function\n",
        "def train_model(model, criterion, optimizer, scheduler, num_epochs=25):\n",
        "    for epoch in range(num_epochs):\n",
        "        model.train()\n",
        "        running_loss = 0.0\n",
        "        for inputs, labels in train_loader:\n",
        "            inputs, labels = inputs.to(device), labels.to(device)\n",
        "\n",
        "            optimizer.zero_grad()\n",
        "            outputs = model(inputs)\n",
        "            loss = criterion(outputs, labels)\n",
        "            loss.backward()\n",
        "            optimizer.step()\n",
        "\n",
        "            running_loss += loss.item() * inputs.size(0)\n",
        "\n",
        "        epoch_loss = running_loss / len(train_loader.dataset)\n",
        "        print(f'Epoch {epoch}/{num_epochs - 1}, Loss: {epoch_loss:.4f}')\n",
        "\n",
        "        scheduler.step()\n",
        "\n",
        "    return model\n",
        "\n",
        "model = train_model(model, criterion, optimizer, scheduler)\n"
      ],
      "metadata": {
        "id": "jZmfwKdFdvJ5"
      },
      "execution_count": null,
      "outputs": []
    },
    {
      "cell_type": "markdown",
      "source": [
        "7"
      ],
      "metadata": {
        "id": "UFdndChai-M-"
      }
    },
    {
      "cell_type": "code",
      "source": [
        "# Cell 7: Model Evaluation\n",
        "# Import necessary libraries\n",
        "import torch\n",
        "\n",
        "device = torch.device(\"cuda\" if torch.cuda.is_available() else \"cpu\")\n",
        "\n",
        "def evaluate_model(model, data_loader):\n",
        "    model.eval()\n",
        "    correct = 0\n",
        "    total = 0\n",
        "    with torch.no_grad():\n",
        "        for inputs, labels in data_loader:\n",
        "            inputs, labels = inputs.to(device), labels.to(device)\n",
        "            outputs = model(inputs)\n",
        "            _, predicted = torch.max(outputs, 1)\n",
        "            total += labels.size(0)\n",
        "            correct += (predicted == labels).sum\n"
      ],
      "metadata": {
        "id": "iy2_dOG6i7Oa"
      },
      "execution_count": null,
      "outputs": []
    },
    {
      "cell_type": "code",
      "source": [],
      "metadata": {
        "id": "iNeOCBTti_NK"
      },
      "execution_count": null,
      "outputs": []
    }
  ]
}